{
 "cells": [
  {
   "cell_type": "code",
   "execution_count": null,
   "metadata": {},
   "outputs": [],
   "source": [
    "import geopandas\n",
    "import csv\n",
    "import matplotlib.pyplot as plt\n",
    "import matplotlib.patheffects as PathEffects\n",
    "\n",
    "%load_ext watermark"
   ]
  },
  {
   "cell_type": "code",
   "execution_count": null,
   "metadata": {},
   "outputs": [],
   "source": [
    "%watermark -a \"João Palmeiro\" -u -d -v -p geopandas,matplotlib"
   ]
  },
  {
   "cell_type": "code",
   "execution_count": null,
   "metadata": {},
   "outputs": [],
   "source": [
    "PATH = \"./data/concelhos\"\n",
    "FILENAME = \"gadm36_PRT_2\""
   ]
  },
  {
   "cell_type": "code",
   "execution_count": null,
   "metadata": {},
   "outputs": [],
   "source": [
    "df = geopandas.read_file(f\"{PATH}/{FILENAME}.shp\")"
   ]
  },
  {
   "cell_type": "code",
   "execution_count": null,
   "metadata": {},
   "outputs": [],
   "source": [
    "df.head()"
   ]
  },
  {
   "cell_type": "code",
   "execution_count": null,
   "metadata": {},
   "outputs": [],
   "source": [
    "df['NAME_1'].value_counts()"
   ]
  },
  {
   "cell_type": "code",
   "execution_count": null,
   "metadata": {},
   "outputs": [],
   "source": [
    "# Alentejo Central: https://pt.wikipedia.org/wiki/Lista_de_concelhos_por_NUTS,_distritos_e_ilhas\n",
    "\n",
    "print(df.loc[df['NAME_1'] == \"Évora\", \"NAME_2\"].values)"
   ]
  },
  {
   "cell_type": "code",
   "execution_count": null,
   "metadata": {},
   "outputs": [],
   "source": [
    "ax = df[df['NAME_1'] == \"Évora\"].plot(\n",
    "    figsize=(10,10),\n",
    "    linewidth=0.8, \n",
    "    edgecolor='0.8'\n",
    ")\n",
    "\n",
    "df[df['NAME_1'] == \"Évora\"].apply(\n",
    "    lambda x: ax.annotate(\n",
    "        s=x.NAME_2, \n",
    "        xy=x.geometry.centroid.coords[0], \n",
    "        ha='center', color=\"black\", \n",
    "        path_effects=[PathEffects.withStroke(linewidth=3, foreground=\"w\")]\n",
    "    ), \n",
    "    axis=1\n",
    ")\n",
    "\n",
    "plt.show()"
   ]
  },
  {
   "cell_type": "code",
   "execution_count": null,
   "metadata": {},
   "outputs": [],
   "source": [
    "# out = r\"shapefile/alentejo_central/alentejo_central.shp\"\n",
    "# df[df['NAME_1'] == \"Évora\"].to_file(out)"
   ]
  },
  {
   "cell_type": "code",
   "execution_count": null,
   "metadata": {},
   "outputs": [],
   "source": [
    "# out = r\"geojson/alentejo_central.geojson\"\n",
    "# df[df['NAME_1'] == \"Évora\"].to_file(out, driver='GeoJSON')"
   ]
  }
 ],
 "metadata": {
  "kernelspec": {
   "display_name": "Python 3",
   "language": "python",
   "name": "python3"
  },
  "language_info": {
   "codemirror_mode": {
    "name": "ipython",
    "version": 3
   },
   "file_extension": ".py",
   "mimetype": "text/x-python",
   "name": "python",
   "nbconvert_exporter": "python",
   "pygments_lexer": "ipython3",
   "version": "3.7.6"
  }
 },
 "nbformat": 4,
 "nbformat_minor": 4
}
