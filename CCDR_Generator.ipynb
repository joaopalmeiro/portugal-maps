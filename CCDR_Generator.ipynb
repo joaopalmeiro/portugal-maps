{
 "cells": [
  {
   "cell_type": "code",
   "execution_count": null,
   "metadata": {},
   "outputs": [],
   "source": [
    "import geopandas\n",
    "import csv\n",
    "import itertools\n",
    "import matplotlib.pyplot as plt\n",
    "\n",
    "%load_ext watermark"
   ]
  },
  {
   "cell_type": "code",
   "execution_count": null,
   "metadata": {},
   "outputs": [],
   "source": [
    "%watermark -a \"João Palmeiro\" -u -d -v -p geopandas,matplotlib"
   ]
  },
  {
   "cell_type": "code",
   "execution_count": null,
   "metadata": {},
   "outputs": [],
   "source": [
    "PATH = \"./data/concelhos\""
   ]
  },
  {
   "cell_type": "code",
   "execution_count": null,
   "metadata": {},
   "outputs": [],
   "source": [
    "df = geopandas.read_file(f\"{PATH}/concelhos.shp\")"
   ]
  },
  {
   "cell_type": "code",
   "execution_count": null,
   "metadata": {},
   "outputs": [],
   "source": [
    "# https://pt.wikipedia.org/wiki/Castanheira_de_Pera\n",
    "df.loc[df['NAME_2'] == \"Castanheira de Pêra\", 'NAME_2'] = \"Castanheira de Pera\"\n",
    "\n",
    "# https://pt.wikipedia.org/wiki/Ponte_de_Sor\n",
    "df.loc[df['NAME_2'] == \"Ponte de Sôr\", 'NAME_2'] = \"Ponte de Sor\""
   ]
  },
  {
   "cell_type": "code",
   "execution_count": null,
   "metadata": {},
   "outputs": [],
   "source": [
    "df.head()"
   ]
  },
  {
   "cell_type": "code",
   "execution_count": null,
   "metadata": {},
   "outputs": [],
   "source": [
    "df.plot()"
   ]
  },
  {
   "cell_type": "code",
   "execution_count": null,
   "metadata": {},
   "outputs": [],
   "source": [
    "df['NAME_1'].value_counts()"
   ]
  },
  {
   "cell_type": "code",
   "execution_count": null,
   "metadata": {},
   "outputs": [],
   "source": [
    "with open(f\"{PATH}/RLVT.csv\") as f:\n",
    "    reader = csv.reader(f)\n",
    "    RLVT = list(reader)\n",
    "    RLVT = list(itertools.chain(*RLVT))"
   ]
  },
  {
   "cell_type": "code",
   "execution_count": null,
   "metadata": {},
   "outputs": [],
   "source": [
    "print(RLVT)"
   ]
  },
  {
   "cell_type": "code",
   "execution_count": null,
   "metadata": {},
   "outputs": [],
   "source": [
    "len(RLVT) == df[df['NAME_2'].isin(RLVT)].shape[0]"
   ]
  },
  {
   "cell_type": "code",
   "execution_count": null,
   "metadata": {},
   "outputs": [],
   "source": [
    "with open(f\"{PATH}/Algarve.csv\") as f:\n",
    "    reader = csv.reader(f)\n",
    "    Algarve = list(reader)\n",
    "    Algarve = list(itertools.chain(*Algarve))"
   ]
  },
  {
   "cell_type": "code",
   "execution_count": null,
   "metadata": {},
   "outputs": [],
   "source": [
    "print(Algarve)"
   ]
  },
  {
   "cell_type": "code",
   "execution_count": null,
   "metadata": {},
   "outputs": [],
   "source": [
    "len(Algarve) == df[(df['NAME_1'] == \"Faro\") & (df['NAME_2'].isin(Algarve))].shape[0]"
   ]
  },
  {
   "cell_type": "code",
   "execution_count": null,
   "metadata": {},
   "outputs": [],
   "source": [
    "with open(f\"{PATH}/Centro_NUTS.csv\") as f:\n",
    "    reader = csv.reader(f)\n",
    "    Centro = list(reader)\n",
    "    Centro = list(itertools.chain(*Centro))"
   ]
  },
  {
   "cell_type": "code",
   "execution_count": null,
   "metadata": {},
   "outputs": [],
   "source": [
    "Centro = [x for x in Centro if x not in RLVT]"
   ]
  },
  {
   "cell_type": "code",
   "execution_count": null,
   "metadata": {},
   "outputs": [],
   "source": [
    "len(Centro) == df[df['NAME_2'].isin(Centro)].shape[0]"
   ]
  },
  {
   "cell_type": "code",
   "execution_count": null,
   "metadata": {},
   "outputs": [],
   "source": [
    "with open(f\"{PATH}/Norte.csv\") as f:\n",
    "    reader = csv.reader(f)\n",
    "    Norte = list(reader)\n",
    "    Norte = list(itertools.chain(*Norte))"
   ]
  },
  {
   "cell_type": "code",
   "execution_count": null,
   "metadata": {},
   "outputs": [],
   "source": [
    "print(Norte)"
   ]
  },
  {
   "cell_type": "code",
   "execution_count": null,
   "metadata": {},
   "outputs": [],
   "source": [
    "len(Norte) == df[df['NAME_2'].isin(Norte)].shape[0]"
   ]
  },
  {
   "cell_type": "code",
   "execution_count": null,
   "metadata": {},
   "outputs": [],
   "source": [
    "df[df['NAME_2'].isin(Norte)]['NAME_1'].value_counts()"
   ]
  },
  {
   "cell_type": "code",
   "execution_count": null,
   "metadata": {},
   "outputs": [],
   "source": [
    "with open(f\"{PATH}/Alentejo_NUTS.csv\") as f:\n",
    "    reader = csv.reader(f)\n",
    "    Alentejo = list(reader)\n",
    "    Alentejo = list(itertools.chain(*Alentejo))"
   ]
  },
  {
   "cell_type": "code",
   "execution_count": null,
   "metadata": {},
   "outputs": [],
   "source": [
    "print(Alentejo)"
   ]
  },
  {
   "cell_type": "code",
   "execution_count": null,
   "metadata": {},
   "outputs": [],
   "source": [
    "Alentejo = [x for x in Alentejo if x not in RLVT]"
   ]
  },
  {
   "cell_type": "code",
   "execution_count": null,
   "metadata": {},
   "outputs": [],
   "source": [
    "print(Alentejo)"
   ]
  },
  {
   "cell_type": "code",
   "execution_count": null,
   "metadata": {},
   "outputs": [],
   "source": [
    "len(Alentejo) == df[df['NAME_2'].isin(Alentejo)].shape[0]"
   ]
  },
  {
   "cell_type": "code",
   "execution_count": null,
   "metadata": {},
   "outputs": [],
   "source": [
    "df[~df['NAME_1'].isin(['Madeira', 'Azores'])].shape[0] == \\\n",
    "(len(RLVT) + len(Norte) + len(Centro) + len(Alentejo) + len(Algarve))"
   ]
  },
  {
   "cell_type": "code",
   "execution_count": null,
   "metadata": {},
   "outputs": [],
   "source": [
    "df['CCDR'] = \"\""
   ]
  },
  {
   "cell_type": "code",
   "execution_count": null,
   "metadata": {},
   "outputs": [],
   "source": [
    "df.head()"
   ]
  },
  {
   "cell_type": "code",
   "execution_count": null,
   "metadata": {},
   "outputs": [],
   "source": [
    "df.loc[df['NAME_2'].isin(Norte), 'CCDR'] = \"Norte\""
   ]
  },
  {
   "cell_type": "code",
   "execution_count": null,
   "metadata": {},
   "outputs": [],
   "source": [
    "df[df['CCDR'] == \"Norte\"].shape[0] == len(Norte)"
   ]
  },
  {
   "cell_type": "code",
   "execution_count": null,
   "metadata": {},
   "outputs": [],
   "source": [
    "df.loc[df['NAME_2'].isin(Alentejo), 'CCDR'] = \"Alentejo\""
   ]
  },
  {
   "cell_type": "code",
   "execution_count": null,
   "metadata": {},
   "outputs": [],
   "source": [
    "df[df['CCDR'] == \"Alentejo\"].shape[0] == len(Alentejo)"
   ]
  },
  {
   "cell_type": "code",
   "execution_count": null,
   "metadata": {},
   "outputs": [],
   "source": [
    "df.loc[df['NAME_2'].isin(Centro), 'CCDR'] = \"Centro\""
   ]
  },
  {
   "cell_type": "code",
   "execution_count": null,
   "metadata": {},
   "outputs": [],
   "source": [
    "df[df['CCDR'] == \"Centro\"].shape[0] == len(Centro)"
   ]
  },
  {
   "cell_type": "code",
   "execution_count": null,
   "metadata": {},
   "outputs": [],
   "source": [
    "df.loc[df['NAME_2'].isin(RLVT), 'CCDR'] = \"RLVT\""
   ]
  },
  {
   "cell_type": "code",
   "execution_count": null,
   "metadata": {},
   "outputs": [],
   "source": [
    "df[df['CCDR'] == \"RLVT\"].shape[0] == len(RLVT)"
   ]
  },
  {
   "cell_type": "code",
   "execution_count": null,
   "metadata": {},
   "outputs": [],
   "source": [
    "df.loc[(df['NAME_1'] == \"Faro\") & (df['NAME_2'].isin(Algarve)), 'CCDR'] = \"Algarve\""
   ]
  },
  {
   "cell_type": "code",
   "execution_count": null,
   "metadata": {},
   "outputs": [],
   "source": [
    "df[(df['NAME_1'] == \"Faro\") & (df['NAME_2'].isin(Algarve))].shape[0] == len(Algarve)"
   ]
  },
  {
   "cell_type": "code",
   "execution_count": null,
   "metadata": {},
   "outputs": [],
   "source": [
    "df['CCDR'].value_counts()"
   ]
  },
  {
   "cell_type": "code",
   "execution_count": null,
   "metadata": {},
   "outputs": [],
   "source": [
    "df_all = df.copy()\n",
    "df_continent = df[~df['NAME_1'].isin(['Madeira', 'Azores'])]"
   ]
  },
  {
   "cell_type": "code",
   "execution_count": null,
   "metadata": {},
   "outputs": [],
   "source": [
    "df_continent['CCDR'].value_counts()"
   ]
  },
  {
   "cell_type": "code",
   "execution_count": null,
   "metadata": {},
   "outputs": [],
   "source": [
    "df_ccdr = df_continent.dissolve(by='CCDR', as_index=False)"
   ]
  },
  {
   "cell_type": "code",
   "execution_count": null,
   "metadata": {},
   "outputs": [],
   "source": [
    "df_ccdr"
   ]
  },
  {
   "cell_type": "code",
   "execution_count": null,
   "metadata": {},
   "outputs": [],
   "source": [
    "df_ccdr.plot(column=\"CCDR\")\n",
    "plt.xticks([])\n",
    "plt.yticks([])\n",
    "# plt.savefig('ccdr.png', dpi=300, bbox_inches='tight')"
   ]
  },
  {
   "cell_type": "code",
   "execution_count": null,
   "metadata": {},
   "outputs": [],
   "source": [
    "# out = r\"shapefile/ccdr_portugal_continental/ccdr_portugal_continental.shp\"\n",
    "# df_ccdr[['CCDR', 'geometry']].to_file(out)"
   ]
  },
  {
   "cell_type": "code",
   "execution_count": null,
   "metadata": {},
   "outputs": [],
   "source": [
    "# out = r\"geojson/ccdr_portugal_continental.geojson\"\n",
    "# df_ccdr[['CCDR', 'geometry']].to_file(out, driver='GeoJSON')"
   ]
  },
  {
   "cell_type": "code",
   "execution_count": null,
   "metadata": {},
   "outputs": [],
   "source": [
    "df_all['NAME_1'].value_counts()"
   ]
  },
  {
   "cell_type": "code",
   "execution_count": null,
   "metadata": {},
   "outputs": [],
   "source": [
    "df_all['CCDR'].value_counts()"
   ]
  },
  {
   "cell_type": "code",
   "execution_count": null,
   "metadata": {},
   "outputs": [],
   "source": [
    "df_all.loc[df_all['NAME_1'] == \"Azores\", 'CCDR'] = \"Açores\""
   ]
  },
  {
   "cell_type": "code",
   "execution_count": null,
   "metadata": {},
   "outputs": [],
   "source": [
    "df_all[df_all['CCDR'] == \"Açores\"].shape[0] == df_all[df_all['NAME_1'] == \"Azores\"].shape[0]"
   ]
  },
  {
   "cell_type": "code",
   "execution_count": null,
   "metadata": {},
   "outputs": [],
   "source": [
    "df_all.loc[df_all['NAME_1'] == \"Madeira\", 'CCDR'] = \"Madeira\""
   ]
  },
  {
   "cell_type": "code",
   "execution_count": null,
   "metadata": {},
   "outputs": [],
   "source": [
    "df_all[df_all['CCDR'] == \"Madeira\"].shape[0] == df_all[df_all['NAME_1'] == \"Madeira\"].shape[0]"
   ]
  },
  {
   "cell_type": "code",
   "execution_count": null,
   "metadata": {},
   "outputs": [],
   "source": [
    "df_all['CCDR'].value_counts()"
   ]
  },
  {
   "cell_type": "code",
   "execution_count": null,
   "metadata": {},
   "outputs": [],
   "source": [
    "df_ccdr_azores_madeira = df_all.dissolve(by='CCDR', as_index=False)"
   ]
  },
  {
   "cell_type": "code",
   "execution_count": null,
   "metadata": {},
   "outputs": [],
   "source": [
    "df_ccdr_azores_madeira.plot(column=\"CCDR\")\n",
    "plt.xticks([])\n",
    "plt.yticks([])\n",
    "# plt.savefig('ccdr_azores_madeira.png', dpi=300, bbox_inches='tight')"
   ]
  },
  {
   "cell_type": "code",
   "execution_count": null,
   "metadata": {},
   "outputs": [],
   "source": [
    "# out = r\"shapefile/ccdr_azores_madeira_portugal/ccdr_azores_madeira_portugal.shp\"\n",
    "# df_ccdr_azores_madeira[['CCDR', 'geometry']].to_file(out)"
   ]
  },
  {
   "cell_type": "code",
   "execution_count": null,
   "metadata": {},
   "outputs": [],
   "source": [
    "# out = r\"geojson/df_ccdr_azores_madeira.geojson\"\n",
    "# df_ccdr_azores_madeira[['CCDR', 'geometry']].to_file(out, driver='GeoJSON')"
   ]
  }
 ],
 "metadata": {
  "kernelspec": {
   "display_name": "Python 3",
   "language": "python",
   "name": "python3"
  },
  "language_info": {
   "codemirror_mode": {
    "name": "ipython",
    "version": 3
   },
   "file_extension": ".py",
   "mimetype": "text/x-python",
   "name": "python",
   "nbconvert_exporter": "python",
   "pygments_lexer": "ipython3",
   "version": "3.7.6"
  }
 },
 "nbformat": 4,
 "nbformat_minor": 4
}
